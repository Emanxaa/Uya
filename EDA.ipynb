{
 "cells": [
  {
   "cell_type": "code",
   "execution_count": 4,
   "id": "b0be9955",
   "metadata": {},
   "outputs": [],
   "source": [
    "import pandas as pd\n",
    "import numpy as np\n",
    "import pandas as pd\n",
    "import seaborn as sns\n",
    "import matplotlib.pyplot as plt"
   ]
  },
  {
   "cell_type": "code",
   "execution_count": 3,
   "id": "5d1cee30",
   "metadata": {},
   "outputs": [],
   "source": [
    "df=pd.read_excel(\"C:\\\\Users\\\\emanu\\\\Downloads\\\\youtube_statistics.xlsx\")"
   ]
  },
  {
   "cell_type": "code",
   "execution_count": 5,
   "id": "2dc8c23e",
   "metadata": {},
   "outputs": [],
   "source": [
    "sns.set(rc={'figure.figsize':(20.7,8.27)})\n",
    "sns.set_style(\"whitegrid\")\n",
    "sns.color_palette(\"dark\")\n",
    "plt.style.use(\"fivethirtyeight\")"
   ]
  },
  {
   "cell_type": "code",
   "execution_count": 6,
   "id": "adb239dd",
   "metadata": {},
   "outputs": [
    {
     "name": "stdout",
     "output_type": "stream",
     "text": [
      "<class 'pandas.core.frame.DataFrame'>\n",
      "RangeIndex: 36791 entries, 0 to 36790\n",
      "Data columns (total 18 columns):\n",
      " #   Column                  Non-Null Count  Dtype         \n",
      "---  ------                  --------------  -----         \n",
      " 0   trending_date           36791 non-null  object        \n",
      " 1   title                   36791 non-null  object        \n",
      " 2   channel_title           36791 non-null  object        \n",
      " 3   category_id             36791 non-null  int64         \n",
      " 4   publish_time            36791 non-null  object        \n",
      " 5   tags                    36791 non-null  object        \n",
      " 6   views                   36791 non-null  int64         \n",
      " 7   likes                   36791 non-null  int64         \n",
      " 8   dislikes                36791 non-null  int64         \n",
      " 9   comment_count           36791 non-null  int64         \n",
      " 10  comments_disabled       36791 non-null  bool          \n",
      " 11  ratings_disabled        36791 non-null  bool          \n",
      " 12  video_error_or_removed  36791 non-null  bool          \n",
      " 13  description             36746 non-null  object        \n",
      " 14  No_tags                 36791 non-null  int64         \n",
      " 15  desc_len                36791 non-null  int64         \n",
      " 16  len_title               36791 non-null  int64         \n",
      " 17  publish_date            36791 non-null  datetime64[ns]\n",
      "dtypes: bool(3), datetime64[ns](1), int64(8), object(6)\n",
      "memory usage: 4.3+ MB\n"
     ]
    }
   ],
   "source": [
    "df.info()"
   ]
  },
  {
   "cell_type": "code",
   "execution_count": 7,
   "id": "d37dfbce",
   "metadata": {},
   "outputs": [
    {
     "name": "stdout",
     "output_type": "stream",
     "text": [
      "<class 'pandas.core.frame.DataFrame'>\n",
      "RangeIndex: 36791 entries, 0 to 36790\n",
      "Data columns (total 18 columns):\n",
      " #   Column                  Non-Null Count  Dtype         \n",
      "---  ------                  --------------  -----         \n",
      " 0   trending_date           36791 non-null  datetime64[ns]\n",
      " 1   title                   36791 non-null  object        \n",
      " 2   channel_title           36791 non-null  object        \n",
      " 3   category_id             36791 non-null  int64         \n",
      " 4   publish_time            36791 non-null  datetime64[ns]\n",
      " 5   tags                    36791 non-null  object        \n",
      " 6   views                   36791 non-null  int64         \n",
      " 7   likes                   36791 non-null  int64         \n",
      " 8   dislikes                36791 non-null  int64         \n",
      " 9   comment_count           36791 non-null  int64         \n",
      " 10  comments_disabled       36791 non-null  bool          \n",
      " 11  ratings_disabled        36791 non-null  bool          \n",
      " 12  video_error_or_removed  36791 non-null  bool          \n",
      " 13  description             36746 non-null  object        \n",
      " 14  No_tags                 36791 non-null  int64         \n",
      " 15  desc_len                36791 non-null  int64         \n",
      " 16  len_title               36791 non-null  int64         \n",
      " 17  publish_date            36791 non-null  datetime64[ns]\n",
      "dtypes: bool(3), datetime64[ns](3), int64(8), object(4)\n",
      "memory usage: 4.3+ MB\n"
     ]
    }
   ],
   "source": [
    "df['trending_date'] = pd.to_datetime(df['trending_date'], errors='coerce')\n",
    "df['publish_date'] = pd.to_datetime(df['publish_date'], errors='coerce')\n",
    "df['publish_time'] = pd.to_datetime(df['publish_time'], format='%H:%M:%S', errors='coerce')\n",
    "df.info()\n"
   ]
  },
  {
   "cell_type": "code",
   "execution_count": 8,
   "id": "2b6a0fd8",
   "metadata": {},
   "outputs": [
    {
     "name": "stdout",
     "output_type": "stream",
     "text": [
      "Jumlah data kosong per kolom:\n",
      "trending_date              0\n",
      "title                      0\n",
      "channel_title              0\n",
      "category_id                0\n",
      "publish_time               0\n",
      "tags                       0\n",
      "views                      0\n",
      "likes                      0\n",
      "dislikes                   0\n",
      "comment_count              0\n",
      "comments_disabled          0\n",
      "ratings_disabled           0\n",
      "video_error_or_removed     0\n",
      "description               45\n",
      "No_tags                    0\n",
      "desc_len                   0\n",
      "len_title                  0\n",
      "publish_date               0\n",
      "dtype: int64\n"
     ]
    }
   ],
   "source": [
    "# Menghitung jumlah data kosong di setiap kolom\n",
    "missing_values = df.isnull().sum()\n",
    "\n",
    "# Menampilkan jumlah data kosong\n",
    "print(\"Jumlah data kosong per kolom:\")\n",
    "print(missing_values)"
   ]
  },
  {
   "cell_type": "code",
   "execution_count": 9,
   "id": "d82e39ee",
   "metadata": {},
   "outputs": [
    {
     "data": {
      "application/vnd.microsoft.datawrangler.viewer.v0+json": {
       "columns": [
        {
         "name": "index",
         "rawType": "object",
         "type": "string"
        },
        {
         "name": "0",
         "rawType": "int64",
         "type": "integer"
        }
       ],
       "ref": "f708e9f9-0b4a-48d7-81f3-9b20b5eeafa1",
       "rows": [
        [
         "trending_date",
         "0"
        ],
        [
         "title",
         "0"
        ],
        [
         "channel_title",
         "0"
        ],
        [
         "category_id",
         "0"
        ],
        [
         "publish_time",
         "0"
        ],
        [
         "tags",
         "0"
        ],
        [
         "views",
         "0"
        ],
        [
         "likes",
         "0"
        ],
        [
         "dislikes",
         "0"
        ],
        [
         "comment_count",
         "0"
        ],
        [
         "comments_disabled",
         "0"
        ],
        [
         "ratings_disabled",
         "0"
        ],
        [
         "video_error_or_removed",
         "0"
        ],
        [
         "description",
         "0"
        ],
        [
         "No_tags",
         "0"
        ],
        [
         "desc_len",
         "0"
        ],
        [
         "len_title",
         "0"
        ],
        [
         "publish_date",
         "0"
        ]
       ],
       "shape": {
        "columns": 1,
        "rows": 18
       }
      },
      "text/plain": [
       "trending_date             0\n",
       "title                     0\n",
       "channel_title             0\n",
       "category_id               0\n",
       "publish_time              0\n",
       "tags                      0\n",
       "views                     0\n",
       "likes                     0\n",
       "dislikes                  0\n",
       "comment_count             0\n",
       "comments_disabled         0\n",
       "ratings_disabled          0\n",
       "video_error_or_removed    0\n",
       "description               0\n",
       "No_tags                   0\n",
       "desc_len                  0\n",
       "len_title                 0\n",
       "publish_date              0\n",
       "dtype: int64"
      ]
     },
     "execution_count": 9,
     "metadata": {},
     "output_type": "execute_result"
    }
   ],
   "source": [
    "df['description'] = df['description'].fillna('')\n",
    "df.isnull().sum()"
   ]
  },
  {
   "cell_type": "code",
   "execution_count": null,
   "id": "cb355cfd",
   "metadata": {},
   "outputs": [
    {
     "data": {
      "text/plain": [
       "4229"
      ]
     },
     "execution_count": 11,
     "metadata": {},
     "output_type": "execute_result"
    }
   ],
   "source": [
    "df.duplicated().sum()"
   ]
  },
  {
   "cell_type": "code",
   "execution_count": 14,
   "id": "45668eb7",
   "metadata": {},
   "outputs": [
    {
     "name": "stdout",
     "output_type": "stream",
     "text": [
      "Duplicated Rows:\n"
     ]
    }
   ],
   "source": [
    "duplicated_rows = df[df.duplicated()]\n",
    "print(\"Duplicated Rows:\")"
   ]
  },
  {
   "cell_type": "code",
   "execution_count": 15,
   "id": "ce6a2ad1",
   "metadata": {},
   "outputs": [
    {
     "data": {
      "application/vnd.microsoft.datawrangler.viewer.v0+json": {
       "columns": [
        {
         "name": "index",
         "rawType": "int64",
         "type": "integer"
        },
        {
         "name": "trending_date",
         "rawType": "datetime64[ns]",
         "type": "datetime"
        },
        {
         "name": "title",
         "rawType": "object",
         "type": "string"
        },
        {
         "name": "channel_title",
         "rawType": "object",
         "type": "string"
        },
        {
         "name": "category_id",
         "rawType": "int64",
         "type": "integer"
        },
        {
         "name": "publish_time",
         "rawType": "datetime64[ns]",
         "type": "datetime"
        },
        {
         "name": "tags",
         "rawType": "object",
         "type": "string"
        },
        {
         "name": "views",
         "rawType": "int64",
         "type": "integer"
        },
        {
         "name": "likes",
         "rawType": "int64",
         "type": "integer"
        },
        {
         "name": "dislikes",
         "rawType": "int64",
         "type": "integer"
        },
        {
         "name": "comment_count",
         "rawType": "int64",
         "type": "integer"
        },
        {
         "name": "comments_disabled",
         "rawType": "bool",
         "type": "boolean"
        },
        {
         "name": "ratings_disabled",
         "rawType": "bool",
         "type": "boolean"
        },
        {
         "name": "video_error_or_removed",
         "rawType": "bool",
         "type": "boolean"
        },
        {
         "name": "description",
         "rawType": "object",
         "type": "string"
        },
        {
         "name": "No_tags",
         "rawType": "int64",
         "type": "integer"
        },
        {
         "name": "desc_len",
         "rawType": "int64",
         "type": "integer"
        },
        {
         "name": "len_title",
         "rawType": "int64",
         "type": "integer"
        },
        {
         "name": "publish_date",
         "rawType": "datetime64[ns]",
         "type": "datetime"
        }
       ],
       "ref": "a1dd7c53-820f-4714-b79a-cb0a42ff9ab8",
       "rows": [
        [
         "1571",
         "2017-11-22 00:00:00",
         "5th day IND vs SL 1st test: Shami gets angry on Dikwela at Kolkata | Headlines Sports",
         "Headlines Sports",
         "17",
         "1900-01-01 11:05:20",
         "India vs Sri lanka 1st test|\"day 5 ind vs sl\"|\"mohammad shami gets angry\"|\"shami and Dikwela\"|\"shami angry on Dikwela\"|\"virat kohli\"|\"Mohammad shami and sri Lanka\"",
         "311208",
         "1305",
         "448",
         "103",
         "False",
         "False",
         "False",
         "Mohammed Shami to Dickwella, no run, outside edge which bounces short of first slip. But who cares about that. Shami walks right up to the batsman in his followthrough and gives the batsman a piece of his mind.Then Kohli comes up from the cordon to have a word or two.\\n🔊 LIKE ➡ SHARE ➡ SUBSCRIBE\\n\\nPlease subscribe the channel and you will get new video notification next time. Here is the subscription link:\\nhttps://www.youtube.com/channel/UCPACfH7u4cAD2APtM_7TJZQ\\n\\nShare This Video : Follow Us With Facebook\\n\\nFacebook:- https://www.facebook.com/Headlinessports/",
         "7",
         "570",
         "85",
         "2017-11-20 00:00:00"
        ],
        [
         "1684",
         "2017-11-22 00:00:00",
         "5th day IND vs SL 1st test: Shami gets angry on Dikwela at Kolkata | Headlines Sports",
         "Headlines Sports",
         "17",
         "1900-01-01 11:05:20",
         "India vs Sri lanka 1st test|\"day 5 ind vs sl\"|\"mohammad shami gets angry\"|\"shami and Dikwela\"|\"shami angry on Dikwela\"|\"virat kohli\"|\"Mohammad shami and sri Lanka\"",
         "311208",
         "1305",
         "448",
         "103",
         "False",
         "False",
         "False",
         "Mohammed Shami to Dickwella, no run, outside edge which bounces short of first slip. But who cares about that. Shami walks right up to the batsman in his followthrough and gives the batsman a piece of his mind.Then Kohli comes up from the cordon to have a word or two.\\n🔊 LIKE ➡ SHARE ➡ SUBSCRIBE\\n\\nPlease subscribe the channel and you will get new video notification next time. Here is the subscription link:\\nhttps://www.youtube.com/channel/UCPACfH7u4cAD2APtM_7TJZQ\\n\\nShare This Video : Follow Us With Facebook\\n\\nFacebook:- https://www.facebook.com/Headlinessports/",
         "7",
         "570",
         "85",
         "2017-11-20 00:00:00"
        ],
        [
         "1542",
         "2017-11-22 00:00:00",
         "Aiyaary Sizzle | Neeraj Pandey | Sidharth Malhotra | Manoj Bajpayee | Releases 26th January 2018",
         "Reliance Entertainment",
         "24",
         "1900-01-01 11:00:47",
         "Neeraj Pandey|\"Shital Bhatia\"|\"Friday Filmworks\"|\"Reliance Entertainment\"|\"Amaal Mallik\"|\"Salim–Sulaiman\"|\"Ram Sampath\"|\"Sidharth Malhotra\"|\"Manoj Bajpayee\"|\"Bhama\"|\"Rakul Preet Singh\"|\"Plan C Studios\"|\"Pen Studios\"",
         "589413",
         "5372",
         "298",
         "592",
         "False",
         "False",
         "False",
         "Witness the story of two Indian Army officers, a mentor & his protégé on this Republic Day.\\n\\nPlan C and Jayantilal Gada (Pen) present AIYAARY, a Neeraj Pandey film.\\n\\nProducer : Shital Bhatia, Dhaval Jayantilal Gada, Motion Picture Capital\\n\\nCo - Producer : Karan Shah\\n\\nStory, Script & Direction - Neeraj Pandey\\n\\nCast : Sidharth Malhotra, Manoj Bajpayee, Rakul Preet Singh, Pooja Chopra, Adil Hussain, Kumud Mishra, Naseeruddin Shah & Anupam Kher\\n\\nReleases Worldwide on 26th January 2018!\\n\\nTrailer will be out soon! Subscribe to the channel now to be the first to watch the trailer! \\n\\nFor more updates follow Reliance Entertainment on: Facebook: https://www.facebook.com/RelianceEntertainment\\nTwitter: https://www.twitter.com/RelianceEnt\\nInstagram: https://www.instagram.com/Reliance.Entertainment/",
         "13",
         "814",
         "96",
         "2017-11-18 00:00:00"
        ],
        [
         "1655",
         "2017-11-22 00:00:00",
         "Aiyaary Sizzle | Neeraj Pandey | Sidharth Malhotra | Manoj Bajpayee | Releases 26th January 2018",
         "Reliance Entertainment",
         "24",
         "1900-01-01 11:00:47",
         "Neeraj Pandey|\"Shital Bhatia\"|\"Friday Filmworks\"|\"Reliance Entertainment\"|\"Amaal Mallik\"|\"Salim–Sulaiman\"|\"Ram Sampath\"|\"Sidharth Malhotra\"|\"Manoj Bajpayee\"|\"Bhama\"|\"Rakul Preet Singh\"|\"Plan C Studios\"|\"Pen Studios\"",
         "589413",
         "5372",
         "298",
         "592",
         "False",
         "False",
         "False",
         "Witness the story of two Indian Army officers, a mentor & his protégé on this Republic Day.\\n\\nPlan C and Jayantilal Gada (Pen) present AIYAARY, a Neeraj Pandey film.\\n\\nProducer : Shital Bhatia, Dhaval Jayantilal Gada, Motion Picture Capital\\n\\nCo - Producer : Karan Shah\\n\\nStory, Script & Direction - Neeraj Pandey\\n\\nCast : Sidharth Malhotra, Manoj Bajpayee, Rakul Preet Singh, Pooja Chopra, Adil Hussain, Kumud Mishra, Naseeruddin Shah & Anupam Kher\\n\\nReleases Worldwide on 26th January 2018!\\n\\nTrailer will be out soon! Subscribe to the channel now to be the first to watch the trailer! \\n\\nFor more updates follow Reliance Entertainment on: Facebook: https://www.facebook.com/RelianceEntertainment\\nTwitter: https://www.twitter.com/RelianceEnt\\nInstagram: https://www.instagram.com/Reliance.Entertainment/",
         "13",
         "814",
         "96",
         "2017-11-18 00:00:00"
        ],
        [
         "1569",
         "2017-11-22 00:00:00",
         "Ama Ghara Laxmi & Ranee | Maha Adhaya | Full Ep 20th Nov 2017 | Odia Serial - TarangTV",
         "Tarang TV",
         "24",
         "1900-01-01 15:31:00",
         "tarang|\"tarang tv\"|\"tarang tv online\"|\"tarang tv serial\"|\"odia tarang tv serial\"|\"tarang tv show\"|\"taranga channel\"|\"tarang tv channel\"|\"odia tarang channel\"|\"odia serial\"|\"odia serial video\"|\"odia tv channel\"|\"odia tv show\"|\"ama ghara laxmi\"|\"ama ghara laxmi serial\"|\"ama ghara laxmi today episode\"|\"ama ghara laxmi odia serial\"|\"tarang tv serial ama ghara laxmi\"|\"ama ghara laxmi serial song\"|\"odia serial rani\"|\"tarang tv rani\"|\"rani tarang\"|\"odia serial ranee\"|\"tarang tv ranee\"",
         "83316",
         "250",
         "62",
         "18",
         "False",
         "False",
         "False",
         "Ama Ghara Laxmi: Monday-Saturday at 7 p.m. only on Tarang TV.\\nRanee: Monday-Saturday at 7.30 p.m. only on Tarang TV.\\n\\nSUBSCRIBE to TarangTV channel for more Odia Serial and movie videos\\nhttps://goo.gl/QgkQLb\\n\\nLike us on Facebook\\nhttps://www.facebook.com/tarangtv \\n\\nCircle on G+  \\nhttps://goo.gl/ArUUGw\\n\\nFollow us on Twitter\\nhttps://twitter.com/tarangtvodisha\\n\\nFollow us on Instagram\\nhttps://www.instagram.com/tarangtv/\\n\\nVisit our website for further details: www.tarangtv.in",
         "24",
         "492",
         "86",
         "2017-11-20 00:00:00"
        ],
        [
         "1682",
         "2017-11-22 00:00:00",
         "Ama Ghara Laxmi & Ranee | Maha Adhaya | Full Ep 20th Nov 2017 | Odia Serial - TarangTV",
         "Tarang TV",
         "24",
         "1900-01-01 15:31:00",
         "tarang|\"tarang tv\"|\"tarang tv online\"|\"tarang tv serial\"|\"odia tarang tv serial\"|\"tarang tv show\"|\"taranga channel\"|\"tarang tv channel\"|\"odia tarang channel\"|\"odia serial\"|\"odia serial video\"|\"odia tv channel\"|\"odia tv show\"|\"ama ghara laxmi\"|\"ama ghara laxmi serial\"|\"ama ghara laxmi today episode\"|\"ama ghara laxmi odia serial\"|\"tarang tv serial ama ghara laxmi\"|\"ama ghara laxmi serial song\"|\"odia serial rani\"|\"tarang tv rani\"|\"rani tarang\"|\"odia serial ranee\"|\"tarang tv ranee\"",
         "83316",
         "250",
         "62",
         "18",
         "False",
         "False",
         "False",
         "Ama Ghara Laxmi: Monday-Saturday at 7 p.m. only on Tarang TV.\\nRanee: Monday-Saturday at 7.30 p.m. only on Tarang TV.\\n\\nSUBSCRIBE to TarangTV channel for more Odia Serial and movie videos\\nhttps://goo.gl/QgkQLb\\n\\nLike us on Facebook\\nhttps://www.facebook.com/tarangtv \\n\\nCircle on G+  \\nhttps://goo.gl/ArUUGw\\n\\nFollow us on Twitter\\nhttps://twitter.com/tarangtvodisha\\n\\nFollow us on Instagram\\nhttps://www.instagram.com/tarangtv/\\n\\nVisit our website for further details: www.tarangtv.in",
         "24",
         "492",
         "86",
         "2017-11-20 00:00:00"
        ],
        [
         "1555",
         "2017-11-22 00:00:00",
         "Arjun Reddy Full Video Songs | Madhurame Full Video Song 4K | Vijay Deverakonda | Shalini Pandey",
         "Mango Music",
         "10",
         "1900-01-01 11:30:19",
         "Arjun Reddy full video songs|\"Madhurame Full Video Song 4K\"|\"Vijay Deverakonda\"|\"Shalini Pandey\"|\"Arjun Reddy Video Songs\"|\"Arjun Reddy\"|\"Mango Music\"|\"Sandeep Vanga\"|\"Madhurame\"|\"Madhurame video song\"|\"Madhurame full video song HD\"|\"Arjun Reddy movie songs\"|\"Arjun Reddy Video Songs HD\"|\"Arjun Reddy Deleted Scenes\"|\"Arjun Reddy Movie Scenes\"|\"Arjun Reddy Full Movie Online\"|\"madhurame ee kshaname video song\"|\"arjun reddy madhurame video song\"|\"arjun reddy hd video songs\"|\"madhurame ee kshaname\"",
         "377982",
         "4522",
         "242",
         "193",
         "False",
         "False",
         "False",
         "Arjun Reddy Full Video Songs on Mango Music. Madhurame Full Video Song 4K from Arjun Reddy Latest 2017 Telugu Movie ft. Vijay Deverakonda & Shalini Pandey. Music by Radhan. Directed by Sandeep Vanga & Produced by Pranay Reddy Vanga under Bhadrakali Pictures banner.\\n\\nArjun Reddy movie also stars Kanchana, Sanjay Swaroop, Kamal Kamaraju, Gopinath Bhat, Jia Sharma, Amit Sharma and Priyadarshi among others.\\n\\n#VijayDevarakonda #VijayDeverakonda #ShaliniPandey #Shalini #Radhan #SandeepVanga #Madhurame #MadhurameSong #MangoMusic\\n\\nSong Details :\\nSong: Madhurame Ee Kshaname\\nMusic: Radhan\\nLyrics: Shresta\\nSinger: Sameera Bharadwaj\\n\\nWatch Arjun Reddy Full Movie Online on Amazon Prime: http://bit.ly/2AcnrAz\\n\\nFor 24x7 Latest Telugu Songs & Trailers :\\nClick Here - http://bit.ly/2g4ybYV\\n\\nClick Here to watch : \\n\\nArjun Reddy Telugu Movie Uncensored Scene : https://youtu.be/OEaKOe7Wewg\\n\\nJawaan Pre Release Event LIVE : http://bit.ly/2hNcTQW\\n\\nJawaan Telugu Songs Tracklist : https://youtu.be/BnIETlgxbjA\\n\\nMahanubhavudu Video Songs HD : http://bit.ly/2yZZKrb\\n\\n2017 Latest Telugu Hit Songs : \\nhttp://bit.ly/2mX2XCs\\n\\nFor more hit Songs and Video Songs - \\nSubscribe - https://www.youtube.com/mangomusic\\nLike - https://www.facebook.com/MangoMusicLabel\\nFollow - https://twitter.com/MangoMusicLabel\\n\\nMy Mango App Links:\\nGoogle Play Store: https://goo.gl/LZlfHu \\nApp Store: https://goo.gl/JHgg83Svc",
         "20",
         "1420",
         "96",
         "2017-11-19 00:00:00"
        ],
        [
         "1668",
         "2017-11-22 00:00:00",
         "Arjun Reddy Full Video Songs | Madhurame Full Video Song 4K | Vijay Deverakonda | Shalini Pandey",
         "Mango Music",
         "10",
         "1900-01-01 11:30:19",
         "Arjun Reddy full video songs|\"Madhurame Full Video Song 4K\"|\"Vijay Deverakonda\"|\"Shalini Pandey\"|\"Arjun Reddy Video Songs\"|\"Arjun Reddy\"|\"Mango Music\"|\"Sandeep Vanga\"|\"Madhurame\"|\"Madhurame video song\"|\"Madhurame full video song HD\"|\"Arjun Reddy movie songs\"|\"Arjun Reddy Video Songs HD\"|\"Arjun Reddy Deleted Scenes\"|\"Arjun Reddy Movie Scenes\"|\"Arjun Reddy Full Movie Online\"|\"madhurame ee kshaname video song\"|\"arjun reddy madhurame video song\"|\"arjun reddy hd video songs\"|\"madhurame ee kshaname\"",
         "377982",
         "4522",
         "242",
         "193",
         "False",
         "False",
         "False",
         "Arjun Reddy Full Video Songs on Mango Music. Madhurame Full Video Song 4K from Arjun Reddy Latest 2017 Telugu Movie ft. Vijay Deverakonda & Shalini Pandey. Music by Radhan. Directed by Sandeep Vanga & Produced by Pranay Reddy Vanga under Bhadrakali Pictures banner.\\n\\nArjun Reddy movie also stars Kanchana, Sanjay Swaroop, Kamal Kamaraju, Gopinath Bhat, Jia Sharma, Amit Sharma and Priyadarshi among others.\\n\\n#VijayDevarakonda #VijayDeverakonda #ShaliniPandey #Shalini #Radhan #SandeepVanga #Madhurame #MadhurameSong #MangoMusic\\n\\nSong Details :\\nSong: Madhurame Ee Kshaname\\nMusic: Radhan\\nLyrics: Shresta\\nSinger: Sameera Bharadwaj\\n\\nWatch Arjun Reddy Full Movie Online on Amazon Prime: http://bit.ly/2AcnrAz\\n\\nFor 24x7 Latest Telugu Songs & Trailers :\\nClick Here - http://bit.ly/2g4ybYV\\n\\nClick Here to watch : \\n\\nArjun Reddy Telugu Movie Uncensored Scene : https://youtu.be/OEaKOe7Wewg\\n\\nJawaan Pre Release Event LIVE : http://bit.ly/2hNcTQW\\n\\nJawaan Telugu Songs Tracklist : https://youtu.be/BnIETlgxbjA\\n\\nMahanubhavudu Video Songs HD : http://bit.ly/2yZZKrb\\n\\n2017 Latest Telugu Hit Songs : \\nhttp://bit.ly/2mX2XCs\\n\\nFor more hit Songs and Video Songs - \\nSubscribe - https://www.youtube.com/mangomusic\\nLike - https://www.facebook.com/MangoMusicLabel\\nFollow - https://twitter.com/MangoMusicLabel\\n\\nMy Mango App Links:\\nGoogle Play Store: https://goo.gl/LZlfHu \\nApp Store: https://goo.gl/JHgg83Svc",
         "20",
         "1420",
         "96",
         "2017-11-19 00:00:00"
        ],
        [
         "1544",
         "2017-11-22 00:00:00",
         "Benafsha Soonawalla ABUSES Hina Khan | Bigg Boss 11 | EXCLUSIVE Interview",
         "Lehren Small Screen",
         "24",
         "1900-01-01 12:48:22",
         "Bigg Boss 11|\"Benafsha Soonawalla\"|\"Benafsha Soonawalla abuses hina khan\"|\"benafsha abuses hina khan\"|\"benafsha soonawalla lashes at hina khan\"|\"benafsha hina\"|\"Benafsha soonawalla interview after eviction\"|\"benafsha soonawalla eviction\"|\"bigg bos 11 fights\"|\"bigg boss 11 full episodes\"|\"benafsha roadies audition\"|\"hina khan bigg boss\"|\"hina khan fights in bigg boss\"|\"hina khan bigg boss fight\"|\"latest telly masala\"|\"latest telly news\"|\"latest telly gossips\"|\"Hina Khan\"",
         "279064",
         "873",
         "537",
         "452",
         "False",
         "False",
         "False",
         "In an Exclusive Interview with Lehren, Bigg Boss 11 contestant Benafsha Soonawalla has abused her best friend from the house, Hina Khan. Have a look.\\n\\nCatch up on all the drama of your favorite TV shows, subscribe now: http://bit.ly/LehrenSmallScreen\\n\\nLog On To Our Official Website : http://www.lehren.com\\n\\nFacebook : https://bit.ly/LehrenFacebook\\n\\nTwitter: https://bit.ly/LehrenTwitter",
         "18",
         "395",
         "73",
         "2017-11-20 00:00:00"
        ],
        [
         "1657",
         "2017-11-22 00:00:00",
         "Benafsha Soonawalla ABUSES Hina Khan | Bigg Boss 11 | EXCLUSIVE Interview",
         "Lehren Small Screen",
         "24",
         "1900-01-01 12:48:22",
         "Bigg Boss 11|\"Benafsha Soonawalla\"|\"Benafsha Soonawalla abuses hina khan\"|\"benafsha abuses hina khan\"|\"benafsha soonawalla lashes at hina khan\"|\"benafsha hina\"|\"Benafsha soonawalla interview after eviction\"|\"benafsha soonawalla eviction\"|\"bigg bos 11 fights\"|\"bigg boss 11 full episodes\"|\"benafsha roadies audition\"|\"hina khan bigg boss\"|\"hina khan fights in bigg boss\"|\"hina khan bigg boss fight\"|\"latest telly masala\"|\"latest telly news\"|\"latest telly gossips\"|\"Hina Khan\"",
         "279064",
         "873",
         "537",
         "452",
         "False",
         "False",
         "False",
         "In an Exclusive Interview with Lehren, Bigg Boss 11 contestant Benafsha Soonawalla has abused her best friend from the house, Hina Khan. Have a look.\\n\\nCatch up on all the drama of your favorite TV shows, subscribe now: http://bit.ly/LehrenSmallScreen\\n\\nLog On To Our Official Website : http://www.lehren.com\\n\\nFacebook : https://bit.ly/LehrenFacebook\\n\\nTwitter: https://bit.ly/LehrenTwitter",
         "18",
         "395",
         "73",
         "2017-11-20 00:00:00"
        ]
       ],
       "shape": {
        "columns": 18,
        "rows": 10
       }
      },
      "text/html": [
       "<div>\n",
       "<style scoped>\n",
       "    .dataframe tbody tr th:only-of-type {\n",
       "        vertical-align: middle;\n",
       "    }\n",
       "\n",
       "    .dataframe tbody tr th {\n",
       "        vertical-align: top;\n",
       "    }\n",
       "\n",
       "    .dataframe thead th {\n",
       "        text-align: right;\n",
       "    }\n",
       "</style>\n",
       "<table border=\"1\" class=\"dataframe\">\n",
       "  <thead>\n",
       "    <tr style=\"text-align: right;\">\n",
       "      <th></th>\n",
       "      <th>trending_date</th>\n",
       "      <th>title</th>\n",
       "      <th>channel_title</th>\n",
       "      <th>category_id</th>\n",
       "      <th>publish_time</th>\n",
       "      <th>tags</th>\n",
       "      <th>views</th>\n",
       "      <th>likes</th>\n",
       "      <th>dislikes</th>\n",
       "      <th>comment_count</th>\n",
       "      <th>comments_disabled</th>\n",
       "      <th>ratings_disabled</th>\n",
       "      <th>video_error_or_removed</th>\n",
       "      <th>description</th>\n",
       "      <th>No_tags</th>\n",
       "      <th>desc_len</th>\n",
       "      <th>len_title</th>\n",
       "      <th>publish_date</th>\n",
       "    </tr>\n",
       "  </thead>\n",
       "  <tbody>\n",
       "    <tr>\n",
       "      <th>1571</th>\n",
       "      <td>2017-11-22</td>\n",
       "      <td>5th day IND vs SL 1st test: Shami gets angry o...</td>\n",
       "      <td>Headlines Sports</td>\n",
       "      <td>17</td>\n",
       "      <td>1900-01-01 11:05:20</td>\n",
       "      <td>India vs Sri lanka 1st test|\"day 5 ind vs sl\"|...</td>\n",
       "      <td>311208</td>\n",
       "      <td>1305</td>\n",
       "      <td>448</td>\n",
       "      <td>103</td>\n",
       "      <td>False</td>\n",
       "      <td>False</td>\n",
       "      <td>False</td>\n",
       "      <td>Mohammed Shami to Dickwella, no run, outside e...</td>\n",
       "      <td>7</td>\n",
       "      <td>570</td>\n",
       "      <td>85</td>\n",
       "      <td>2017-11-20</td>\n",
       "    </tr>\n",
       "    <tr>\n",
       "      <th>1684</th>\n",
       "      <td>2017-11-22</td>\n",
       "      <td>5th day IND vs SL 1st test: Shami gets angry o...</td>\n",
       "      <td>Headlines Sports</td>\n",
       "      <td>17</td>\n",
       "      <td>1900-01-01 11:05:20</td>\n",
       "      <td>India vs Sri lanka 1st test|\"day 5 ind vs sl\"|...</td>\n",
       "      <td>311208</td>\n",
       "      <td>1305</td>\n",
       "      <td>448</td>\n",
       "      <td>103</td>\n",
       "      <td>False</td>\n",
       "      <td>False</td>\n",
       "      <td>False</td>\n",
       "      <td>Mohammed Shami to Dickwella, no run, outside e...</td>\n",
       "      <td>7</td>\n",
       "      <td>570</td>\n",
       "      <td>85</td>\n",
       "      <td>2017-11-20</td>\n",
       "    </tr>\n",
       "    <tr>\n",
       "      <th>1542</th>\n",
       "      <td>2017-11-22</td>\n",
       "      <td>Aiyaary Sizzle | Neeraj Pandey | Sidharth Malh...</td>\n",
       "      <td>Reliance Entertainment</td>\n",
       "      <td>24</td>\n",
       "      <td>1900-01-01 11:00:47</td>\n",
       "      <td>Neeraj Pandey|\"Shital Bhatia\"|\"Friday Filmwork...</td>\n",
       "      <td>589413</td>\n",
       "      <td>5372</td>\n",
       "      <td>298</td>\n",
       "      <td>592</td>\n",
       "      <td>False</td>\n",
       "      <td>False</td>\n",
       "      <td>False</td>\n",
       "      <td>Witness the story of two Indian Army officers,...</td>\n",
       "      <td>13</td>\n",
       "      <td>814</td>\n",
       "      <td>96</td>\n",
       "      <td>2017-11-18</td>\n",
       "    </tr>\n",
       "    <tr>\n",
       "      <th>1655</th>\n",
       "      <td>2017-11-22</td>\n",
       "      <td>Aiyaary Sizzle | Neeraj Pandey | Sidharth Malh...</td>\n",
       "      <td>Reliance Entertainment</td>\n",
       "      <td>24</td>\n",
       "      <td>1900-01-01 11:00:47</td>\n",
       "      <td>Neeraj Pandey|\"Shital Bhatia\"|\"Friday Filmwork...</td>\n",
       "      <td>589413</td>\n",
       "      <td>5372</td>\n",
       "      <td>298</td>\n",
       "      <td>592</td>\n",
       "      <td>False</td>\n",
       "      <td>False</td>\n",
       "      <td>False</td>\n",
       "      <td>Witness the story of two Indian Army officers,...</td>\n",
       "      <td>13</td>\n",
       "      <td>814</td>\n",
       "      <td>96</td>\n",
       "      <td>2017-11-18</td>\n",
       "    </tr>\n",
       "    <tr>\n",
       "      <th>1569</th>\n",
       "      <td>2017-11-22</td>\n",
       "      <td>Ama Ghara Laxmi &amp; Ranee | Maha Adhaya | Full E...</td>\n",
       "      <td>Tarang TV</td>\n",
       "      <td>24</td>\n",
       "      <td>1900-01-01 15:31:00</td>\n",
       "      <td>tarang|\"tarang tv\"|\"tarang tv online\"|\"tarang ...</td>\n",
       "      <td>83316</td>\n",
       "      <td>250</td>\n",
       "      <td>62</td>\n",
       "      <td>18</td>\n",
       "      <td>False</td>\n",
       "      <td>False</td>\n",
       "      <td>False</td>\n",
       "      <td>Ama Ghara Laxmi: Monday-Saturday at 7 p.m. onl...</td>\n",
       "      <td>24</td>\n",
       "      <td>492</td>\n",
       "      <td>86</td>\n",
       "      <td>2017-11-20</td>\n",
       "    </tr>\n",
       "    <tr>\n",
       "      <th>1682</th>\n",
       "      <td>2017-11-22</td>\n",
       "      <td>Ama Ghara Laxmi &amp; Ranee | Maha Adhaya | Full E...</td>\n",
       "      <td>Tarang TV</td>\n",
       "      <td>24</td>\n",
       "      <td>1900-01-01 15:31:00</td>\n",
       "      <td>tarang|\"tarang tv\"|\"tarang tv online\"|\"tarang ...</td>\n",
       "      <td>83316</td>\n",
       "      <td>250</td>\n",
       "      <td>62</td>\n",
       "      <td>18</td>\n",
       "      <td>False</td>\n",
       "      <td>False</td>\n",
       "      <td>False</td>\n",
       "      <td>Ama Ghara Laxmi: Monday-Saturday at 7 p.m. onl...</td>\n",
       "      <td>24</td>\n",
       "      <td>492</td>\n",
       "      <td>86</td>\n",
       "      <td>2017-11-20</td>\n",
       "    </tr>\n",
       "    <tr>\n",
       "      <th>1555</th>\n",
       "      <td>2017-11-22</td>\n",
       "      <td>Arjun Reddy Full Video Songs | Madhurame Full ...</td>\n",
       "      <td>Mango Music</td>\n",
       "      <td>10</td>\n",
       "      <td>1900-01-01 11:30:19</td>\n",
       "      <td>Arjun Reddy full video songs|\"Madhurame Full V...</td>\n",
       "      <td>377982</td>\n",
       "      <td>4522</td>\n",
       "      <td>242</td>\n",
       "      <td>193</td>\n",
       "      <td>False</td>\n",
       "      <td>False</td>\n",
       "      <td>False</td>\n",
       "      <td>Arjun Reddy Full Video Songs on Mango Music. M...</td>\n",
       "      <td>20</td>\n",
       "      <td>1420</td>\n",
       "      <td>96</td>\n",
       "      <td>2017-11-19</td>\n",
       "    </tr>\n",
       "    <tr>\n",
       "      <th>1668</th>\n",
       "      <td>2017-11-22</td>\n",
       "      <td>Arjun Reddy Full Video Songs | Madhurame Full ...</td>\n",
       "      <td>Mango Music</td>\n",
       "      <td>10</td>\n",
       "      <td>1900-01-01 11:30:19</td>\n",
       "      <td>Arjun Reddy full video songs|\"Madhurame Full V...</td>\n",
       "      <td>377982</td>\n",
       "      <td>4522</td>\n",
       "      <td>242</td>\n",
       "      <td>193</td>\n",
       "      <td>False</td>\n",
       "      <td>False</td>\n",
       "      <td>False</td>\n",
       "      <td>Arjun Reddy Full Video Songs on Mango Music. M...</td>\n",
       "      <td>20</td>\n",
       "      <td>1420</td>\n",
       "      <td>96</td>\n",
       "      <td>2017-11-19</td>\n",
       "    </tr>\n",
       "    <tr>\n",
       "      <th>1544</th>\n",
       "      <td>2017-11-22</td>\n",
       "      <td>Benafsha Soonawalla ABUSES Hina Khan | Bigg Bo...</td>\n",
       "      <td>Lehren Small Screen</td>\n",
       "      <td>24</td>\n",
       "      <td>1900-01-01 12:48:22</td>\n",
       "      <td>Bigg Boss 11|\"Benafsha Soonawalla\"|\"Benafsha S...</td>\n",
       "      <td>279064</td>\n",
       "      <td>873</td>\n",
       "      <td>537</td>\n",
       "      <td>452</td>\n",
       "      <td>False</td>\n",
       "      <td>False</td>\n",
       "      <td>False</td>\n",
       "      <td>In an Exclusive Interview with Lehren, Bigg Bo...</td>\n",
       "      <td>18</td>\n",
       "      <td>395</td>\n",
       "      <td>73</td>\n",
       "      <td>2017-11-20</td>\n",
       "    </tr>\n",
       "    <tr>\n",
       "      <th>1657</th>\n",
       "      <td>2017-11-22</td>\n",
       "      <td>Benafsha Soonawalla ABUSES Hina Khan | Bigg Bo...</td>\n",
       "      <td>Lehren Small Screen</td>\n",
       "      <td>24</td>\n",
       "      <td>1900-01-01 12:48:22</td>\n",
       "      <td>Bigg Boss 11|\"Benafsha Soonawalla\"|\"Benafsha S...</td>\n",
       "      <td>279064</td>\n",
       "      <td>873</td>\n",
       "      <td>537</td>\n",
       "      <td>452</td>\n",
       "      <td>False</td>\n",
       "      <td>False</td>\n",
       "      <td>False</td>\n",
       "      <td>In an Exclusive Interview with Lehren, Bigg Bo...</td>\n",
       "      <td>18</td>\n",
       "      <td>395</td>\n",
       "      <td>73</td>\n",
       "      <td>2017-11-20</td>\n",
       "    </tr>\n",
       "  </tbody>\n",
       "</table>\n",
       "</div>"
      ],
      "text/plain": [
       "     trending_date                                              title  \\\n",
       "1571    2017-11-22  5th day IND vs SL 1st test: Shami gets angry o...   \n",
       "1684    2017-11-22  5th day IND vs SL 1st test: Shami gets angry o...   \n",
       "1542    2017-11-22  Aiyaary Sizzle | Neeraj Pandey | Sidharth Malh...   \n",
       "1655    2017-11-22  Aiyaary Sizzle | Neeraj Pandey | Sidharth Malh...   \n",
       "1569    2017-11-22  Ama Ghara Laxmi & Ranee | Maha Adhaya | Full E...   \n",
       "1682    2017-11-22  Ama Ghara Laxmi & Ranee | Maha Adhaya | Full E...   \n",
       "1555    2017-11-22  Arjun Reddy Full Video Songs | Madhurame Full ...   \n",
       "1668    2017-11-22  Arjun Reddy Full Video Songs | Madhurame Full ...   \n",
       "1544    2017-11-22  Benafsha Soonawalla ABUSES Hina Khan | Bigg Bo...   \n",
       "1657    2017-11-22  Benafsha Soonawalla ABUSES Hina Khan | Bigg Bo...   \n",
       "\n",
       "               channel_title  category_id        publish_time  \\\n",
       "1571        Headlines Sports           17 1900-01-01 11:05:20   \n",
       "1684        Headlines Sports           17 1900-01-01 11:05:20   \n",
       "1542  Reliance Entertainment           24 1900-01-01 11:00:47   \n",
       "1655  Reliance Entertainment           24 1900-01-01 11:00:47   \n",
       "1569               Tarang TV           24 1900-01-01 15:31:00   \n",
       "1682               Tarang TV           24 1900-01-01 15:31:00   \n",
       "1555             Mango Music           10 1900-01-01 11:30:19   \n",
       "1668             Mango Music           10 1900-01-01 11:30:19   \n",
       "1544     Lehren Small Screen           24 1900-01-01 12:48:22   \n",
       "1657     Lehren Small Screen           24 1900-01-01 12:48:22   \n",
       "\n",
       "                                                   tags   views  likes  \\\n",
       "1571  India vs Sri lanka 1st test|\"day 5 ind vs sl\"|...  311208   1305   \n",
       "1684  India vs Sri lanka 1st test|\"day 5 ind vs sl\"|...  311208   1305   \n",
       "1542  Neeraj Pandey|\"Shital Bhatia\"|\"Friday Filmwork...  589413   5372   \n",
       "1655  Neeraj Pandey|\"Shital Bhatia\"|\"Friday Filmwork...  589413   5372   \n",
       "1569  tarang|\"tarang tv\"|\"tarang tv online\"|\"tarang ...   83316    250   \n",
       "1682  tarang|\"tarang tv\"|\"tarang tv online\"|\"tarang ...   83316    250   \n",
       "1555  Arjun Reddy full video songs|\"Madhurame Full V...  377982   4522   \n",
       "1668  Arjun Reddy full video songs|\"Madhurame Full V...  377982   4522   \n",
       "1544  Bigg Boss 11|\"Benafsha Soonawalla\"|\"Benafsha S...  279064    873   \n",
       "1657  Bigg Boss 11|\"Benafsha Soonawalla\"|\"Benafsha S...  279064    873   \n",
       "\n",
       "      dislikes  comment_count  comments_disabled  ratings_disabled  \\\n",
       "1571       448            103              False             False   \n",
       "1684       448            103              False             False   \n",
       "1542       298            592              False             False   \n",
       "1655       298            592              False             False   \n",
       "1569        62             18              False             False   \n",
       "1682        62             18              False             False   \n",
       "1555       242            193              False             False   \n",
       "1668       242            193              False             False   \n",
       "1544       537            452              False             False   \n",
       "1657       537            452              False             False   \n",
       "\n",
       "      video_error_or_removed  \\\n",
       "1571                   False   \n",
       "1684                   False   \n",
       "1542                   False   \n",
       "1655                   False   \n",
       "1569                   False   \n",
       "1682                   False   \n",
       "1555                   False   \n",
       "1668                   False   \n",
       "1544                   False   \n",
       "1657                   False   \n",
       "\n",
       "                                            description  No_tags  desc_len  \\\n",
       "1571  Mohammed Shami to Dickwella, no run, outside e...        7       570   \n",
       "1684  Mohammed Shami to Dickwella, no run, outside e...        7       570   \n",
       "1542  Witness the story of two Indian Army officers,...       13       814   \n",
       "1655  Witness the story of two Indian Army officers,...       13       814   \n",
       "1569  Ama Ghara Laxmi: Monday-Saturday at 7 p.m. onl...       24       492   \n",
       "1682  Ama Ghara Laxmi: Monday-Saturday at 7 p.m. onl...       24       492   \n",
       "1555  Arjun Reddy Full Video Songs on Mango Music. M...       20      1420   \n",
       "1668  Arjun Reddy Full Video Songs on Mango Music. M...       20      1420   \n",
       "1544  In an Exclusive Interview with Lehren, Bigg Bo...       18       395   \n",
       "1657  In an Exclusive Interview with Lehren, Bigg Bo...       18       395   \n",
       "\n",
       "      len_title publish_date  \n",
       "1571         85   2017-11-20  \n",
       "1684         85   2017-11-20  \n",
       "1542         96   2017-11-18  \n",
       "1655         96   2017-11-18  \n",
       "1569         86   2017-11-20  \n",
       "1682         86   2017-11-20  \n",
       "1555         96   2017-11-19  \n",
       "1668         96   2017-11-19  \n",
       "1544         73   2017-11-20  \n",
       "1657         73   2017-11-20  "
      ]
     },
     "execution_count": 15,
     "metadata": {},
     "output_type": "execute_result"
    }
   ],
   "source": [
    "# Hitung duplikat persis (seluruh kolom sama)\n",
    "df.duplicated().sum()\n",
    "\n",
    "# Lihat contoh duplikatnya\n",
    "dups = df[df.duplicated(keep=False)].sort_values(df.columns.tolist())\n",
    "dups.head(10)\n"
   ]
  },
  {
   "cell_type": "code",
   "execution_count": 16,
   "id": "22032297",
   "metadata": {},
   "outputs": [],
   "source": [
    "df.drop_duplicates(inplace=True)"
   ]
  },
  {
   "cell_type": "code",
   "execution_count": 17,
   "id": "28b724a9",
   "metadata": {},
   "outputs": [
    {
     "data": {
      "text/plain": [
       "0"
      ]
     },
     "execution_count": 17,
     "metadata": {},
     "output_type": "execute_result"
    }
   ],
   "source": [
    "df.duplicated().sum()"
   ]
  },
  {
   "cell_type": "code",
   "execution_count": 18,
   "id": "5049f317",
   "metadata": {},
   "outputs": [
    {
     "data": {
      "application/vnd.microsoft.datawrangler.viewer.v0+json": {
       "columns": [
        {
         "name": "index",
         "rawType": "int64",
         "type": "integer"
        },
        {
         "name": "trending_date",
         "rawType": "datetime64[ns]",
         "type": "datetime"
        },
        {
         "name": "title",
         "rawType": "object",
         "type": "unknown"
        },
        {
         "name": "channel_title",
         "rawType": "object",
         "type": "unknown"
        },
        {
         "name": "category_id",
         "rawType": "int64",
         "type": "integer"
        },
        {
         "name": "publish_time",
         "rawType": "datetime64[ns]",
         "type": "datetime"
        },
        {
         "name": "tags",
         "rawType": "object",
         "type": "unknown"
        },
        {
         "name": "views",
         "rawType": "int64",
         "type": "integer"
        },
        {
         "name": "likes",
         "rawType": "int64",
         "type": "integer"
        },
        {
         "name": "dislikes",
         "rawType": "int64",
         "type": "integer"
        },
        {
         "name": "comment_count",
         "rawType": "int64",
         "type": "integer"
        },
        {
         "name": "comments_disabled",
         "rawType": "bool",
         "type": "boolean"
        },
        {
         "name": "ratings_disabled",
         "rawType": "bool",
         "type": "boolean"
        },
        {
         "name": "video_error_or_removed",
         "rawType": "bool",
         "type": "boolean"
        },
        {
         "name": "description",
         "rawType": "object",
         "type": "unknown"
        },
        {
         "name": "No_tags",
         "rawType": "int64",
         "type": "integer"
        },
        {
         "name": "desc_len",
         "rawType": "int64",
         "type": "integer"
        },
        {
         "name": "len_title",
         "rawType": "int64",
         "type": "integer"
        },
        {
         "name": "publish_date",
         "rawType": "datetime64[ns]",
         "type": "datetime"
        }
       ],
       "ref": "fa4bd084-d121-49e9-be5c-439325366997",
       "rows": [],
       "shape": {
        "columns": 18,
        "rows": 0
       }
      },
      "text/html": [
       "<div>\n",
       "<style scoped>\n",
       "    .dataframe tbody tr th:only-of-type {\n",
       "        vertical-align: middle;\n",
       "    }\n",
       "\n",
       "    .dataframe tbody tr th {\n",
       "        vertical-align: top;\n",
       "    }\n",
       "\n",
       "    .dataframe thead th {\n",
       "        text-align: right;\n",
       "    }\n",
       "</style>\n",
       "<table border=\"1\" class=\"dataframe\">\n",
       "  <thead>\n",
       "    <tr style=\"text-align: right;\">\n",
       "      <th></th>\n",
       "      <th>trending_date</th>\n",
       "      <th>title</th>\n",
       "      <th>channel_title</th>\n",
       "      <th>category_id</th>\n",
       "      <th>publish_time</th>\n",
       "      <th>tags</th>\n",
       "      <th>views</th>\n",
       "      <th>likes</th>\n",
       "      <th>dislikes</th>\n",
       "      <th>comment_count</th>\n",
       "      <th>comments_disabled</th>\n",
       "      <th>ratings_disabled</th>\n",
       "      <th>video_error_or_removed</th>\n",
       "      <th>description</th>\n",
       "      <th>No_tags</th>\n",
       "      <th>desc_len</th>\n",
       "      <th>len_title</th>\n",
       "      <th>publish_date</th>\n",
       "    </tr>\n",
       "  </thead>\n",
       "  <tbody>\n",
       "  </tbody>\n",
       "</table>\n",
       "</div>"
      ],
      "text/plain": [
       "Empty DataFrame\n",
       "Columns: [trending_date, title, channel_title, category_id, publish_time, tags, views, likes, dislikes, comment_count, comments_disabled, ratings_disabled, video_error_or_removed, description, No_tags, desc_len, len_title, publish_date]\n",
       "Index: []"
      ]
     },
     "execution_count": 18,
     "metadata": {},
     "output_type": "execute_result"
    }
   ],
   "source": [
    "dups = df[df.duplicated(keep=False)].sort_values(df.columns.tolist())\n",
    "dups.head(10)"
   ]
  },
  {
   "cell_type": "code",
   "execution_count": 19,
   "id": "ee96916c",
   "metadata": {},
   "outputs": [
    {
     "name": "stdout",
     "output_type": "stream",
     "text": [
      "Jumlah baris dan kolom setelah pembersihan: (32562, 18)\n",
      "\n",
      "Jumlah missing value per kolom:\n",
      "trending_date             0\n",
      "title                     0\n",
      "channel_title             0\n",
      "category_id               0\n",
      "publish_time              0\n",
      "tags                      0\n",
      "views                     0\n",
      "likes                     0\n",
      "dislikes                  0\n",
      "comment_count             0\n",
      "comments_disabled         0\n",
      "ratings_disabled          0\n",
      "video_error_or_removed    0\n",
      "description               0\n",
      "No_tags                   0\n",
      "desc_len                  0\n",
      "len_title                 0\n",
      "publish_date              0\n",
      "dtype: int64\n",
      "\n",
      "Tipe data terbaru:\n",
      "trending_date             datetime64[ns]\n",
      "title                             object\n",
      "channel_title                     object\n",
      "category_id                        int64\n",
      "publish_time              datetime64[ns]\n",
      "tags                              object\n",
      "views                              int64\n",
      "likes                              int64\n",
      "dislikes                           int64\n",
      "comment_count                      int64\n",
      "comments_disabled                   bool\n",
      "ratings_disabled                    bool\n",
      "video_error_or_removed              bool\n",
      "description                       object\n",
      "No_tags                            int64\n",
      "desc_len                           int64\n",
      "len_title                          int64\n",
      "publish_date              datetime64[ns]\n",
      "dtype: object\n"
     ]
    }
   ],
   "source": [
    "print(\"Jumlah baris dan kolom setelah pembersihan:\", df.shape)\n",
    "print(\"\\nJumlah missing value per kolom:\")\n",
    "print(df.isnull().sum())\n",
    "\n",
    "print(\"\\nTipe data terbaru:\")\n",
    "print(df.dtypes)"
   ]
  },
  {
   "cell_type": "code",
   "execution_count": 20,
   "id": "3188260f",
   "metadata": {},
   "outputs": [
    {
     "name": "stdout",
     "output_type": "stream",
     "text": [
      "Kolom Numerik  : ['category_id', 'views', 'likes', 'dislikes', 'comment_count', 'No_tags', 'desc_len', 'len_title']\n",
      "Kolom Kategorik: ['title', 'channel_title', 'tags', 'comments_disabled', 'ratings_disabled', 'video_error_or_removed', 'description']\n",
      "Kolom Datetime : ['trending_date', 'publish_time', 'publish_date']\n"
     ]
    }
   ],
   "source": [
    "numerical_cols = df.select_dtypes(include=np.number).columns.tolist()\n",
    "datetime_cols = df.select_dtypes(include=['datetime64']).columns.tolist()\n",
    "categorical_cols = df.select_dtypes(exclude=[np.number, 'datetime64']).columns.tolist()\n",
    "\n",
    "# --- Cetak hasilnya dengan format rapi ---\n",
    "print(\"Kolom Numerik  :\", numerical_cols)\n",
    "print(\"Kolom Kategorik:\", categorical_cols)\n",
    "print(\"Kolom Datetime :\", datetime_cols)"
   ]
  },
  {
   "cell_type": "code",
   "execution_count": 21,
   "id": "e35c7fab",
   "metadata": {},
   "outputs": [
    {
     "data": {
      "application/vnd.microsoft.datawrangler.viewer.v0+json": {
       "columns": [
        {
         "name": "index",
         "rawType": "int64",
         "type": "integer"
        },
        {
         "name": "like_ratio",
         "rawType": "float64",
         "type": "float"
        },
        {
         "name": "comment_ratio",
         "rawType": "float64",
         "type": "float"
        }
       ],
       "ref": "7ba1d454-69ba-4bd4-9d0f-9513ee3adef5",
       "rows": [
        [
         "0",
         "0.9770171149144254",
         "0.000804503761647974"
        ],
        [
         "1",
         "0.4481707317073171",
         "0.0"
        ],
        [
         "2",
         "0.8917960088691796",
         "0.0003143532866796487"
        ],
        [
         "3",
         "0.9774236572285976",
         "0.0021598463322445582"
        ],
        [
         "4",
         "0.6259541984732825",
         "0.00014223647460432398"
        ]
       ],
       "shape": {
        "columns": 2,
        "rows": 5
       }
      },
      "text/html": [
       "<div>\n",
       "<style scoped>\n",
       "    .dataframe tbody tr th:only-of-type {\n",
       "        vertical-align: middle;\n",
       "    }\n",
       "\n",
       "    .dataframe tbody tr th {\n",
       "        vertical-align: top;\n",
       "    }\n",
       "\n",
       "    .dataframe thead th {\n",
       "        text-align: right;\n",
       "    }\n",
       "</style>\n",
       "<table border=\"1\" class=\"dataframe\">\n",
       "  <thead>\n",
       "    <tr style=\"text-align: right;\">\n",
       "      <th></th>\n",
       "      <th>like_ratio</th>\n",
       "      <th>comment_ratio</th>\n",
       "    </tr>\n",
       "  </thead>\n",
       "  <tbody>\n",
       "    <tr>\n",
       "      <th>0</th>\n",
       "      <td>0.977017</td>\n",
       "      <td>0.000805</td>\n",
       "    </tr>\n",
       "    <tr>\n",
       "      <th>1</th>\n",
       "      <td>0.448171</td>\n",
       "      <td>0.000000</td>\n",
       "    </tr>\n",
       "    <tr>\n",
       "      <th>2</th>\n",
       "      <td>0.891796</td>\n",
       "      <td>0.000314</td>\n",
       "    </tr>\n",
       "    <tr>\n",
       "      <th>3</th>\n",
       "      <td>0.977424</td>\n",
       "      <td>0.002160</td>\n",
       "    </tr>\n",
       "    <tr>\n",
       "      <th>4</th>\n",
       "      <td>0.625954</td>\n",
       "      <td>0.000142</td>\n",
       "    </tr>\n",
       "  </tbody>\n",
       "</table>\n",
       "</div>"
      ],
      "text/plain": [
       "   like_ratio  comment_ratio\n",
       "0    0.977017       0.000805\n",
       "1    0.448171       0.000000\n",
       "2    0.891796       0.000314\n",
       "3    0.977424       0.002160\n",
       "4    0.625954       0.000142"
      ]
     },
     "execution_count": 21,
     "metadata": {},
     "output_type": "execute_result"
    }
   ],
   "source": [
    "# Rasio like terhadap total interaksi (like + dislike)\n",
    "df['like_ratio'] = df['likes'] / (df['likes'] + df['dislikes'] + 1)\n",
    "\n",
    "# Rasio komentar terhadap views\n",
    "df['comment_ratio'] = df['comment_count'] / (df['views'] + 1)\n",
    "\n",
    "df[['like_ratio', 'comment_ratio']].head()"
   ]
  },
  {
   "cell_type": "code",
   "execution_count": 22,
   "id": "279c7b1c",
   "metadata": {},
   "outputs": [
    {
     "data": {
      "application/vnd.microsoft.datawrangler.viewer.v0+json": {
       "columns": [
        {
         "name": "index",
         "rawType": "object",
         "type": "string"
        },
        {
         "name": "days_to_trend",
         "rawType": "float64",
         "type": "float"
        }
       ],
       "ref": "c0e8d30a-4ba4-4066-9010-4c229a6357cc",
       "rows": [
        [
         "count",
         "32562.0"
        ],
        [
         "mean",
         "2.1128001965481236"
        ],
        [
         "std",
         "2.1691095490843315"
        ],
        [
         "min",
         "0.0"
        ],
        [
         "25%",
         "1.0"
        ],
        [
         "50%",
         "2.0"
        ],
        [
         "75%",
         "3.0"
        ],
        [
         "max",
         "221.0"
        ]
       ],
       "shape": {
        "columns": 1,
        "rows": 8
       }
      },
      "text/plain": [
       "count    32562.00000\n",
       "mean         2.11280\n",
       "std          2.16911\n",
       "min          0.00000\n",
       "25%          1.00000\n",
       "50%          2.00000\n",
       "75%          3.00000\n",
       "max        221.00000\n",
       "Name: days_to_trend, dtype: float64"
      ]
     },
     "execution_count": 22,
     "metadata": {},
     "output_type": "execute_result"
    }
   ],
   "source": [
    "# Mengukur seberapa cepat video masuk ke trending sejak diunggah.\n",
    "df['days_to_trend'] = (df['trending_date'] - df['publish_date']).dt.days\n",
    "df['days_to_trend'].describe()\n"
   ]
  },
  {
   "cell_type": "code",
   "execution_count": 23,
   "id": "339c2903",
   "metadata": {},
   "outputs": [
    {
     "data": {
      "application/vnd.microsoft.datawrangler.viewer.v0+json": {
       "columns": [
        {
         "name": "index",
         "rawType": "int64",
         "type": "integer"
        },
        {
         "name": "publish_day",
         "rawType": "object",
         "type": "string"
        },
        {
         "name": "is_weekend",
         "rawType": "int32",
         "type": "integer"
        },
        {
         "name": "publish_hour",
         "rawType": "int32",
         "type": "integer"
        }
       ],
       "ref": "e3244734-e97b-42bc-9c69-d33a7351b148",
       "rows": [
        [
         "0",
         "Sunday",
         "1",
         "12"
        ],
        [
         "1",
         "Monday",
         "0",
         "5"
        ],
        [
         "2",
         "Sunday",
         "1",
         "15"
        ],
        [
         "3",
         "Sunday",
         "1",
         "7"
        ],
        [
         "4",
         "Monday",
         "0",
         "1"
        ]
       ],
       "shape": {
        "columns": 3,
        "rows": 5
       }
      },
      "text/html": [
       "<div>\n",
       "<style scoped>\n",
       "    .dataframe tbody tr th:only-of-type {\n",
       "        vertical-align: middle;\n",
       "    }\n",
       "\n",
       "    .dataframe tbody tr th {\n",
       "        vertical-align: top;\n",
       "    }\n",
       "\n",
       "    .dataframe thead th {\n",
       "        text-align: right;\n",
       "    }\n",
       "</style>\n",
       "<table border=\"1\" class=\"dataframe\">\n",
       "  <thead>\n",
       "    <tr style=\"text-align: right;\">\n",
       "      <th></th>\n",
       "      <th>publish_day</th>\n",
       "      <th>is_weekend</th>\n",
       "      <th>publish_hour</th>\n",
       "    </tr>\n",
       "  </thead>\n",
       "  <tbody>\n",
       "    <tr>\n",
       "      <th>0</th>\n",
       "      <td>Sunday</td>\n",
       "      <td>1</td>\n",
       "      <td>12</td>\n",
       "    </tr>\n",
       "    <tr>\n",
       "      <th>1</th>\n",
       "      <td>Monday</td>\n",
       "      <td>0</td>\n",
       "      <td>5</td>\n",
       "    </tr>\n",
       "    <tr>\n",
       "      <th>2</th>\n",
       "      <td>Sunday</td>\n",
       "      <td>1</td>\n",
       "      <td>15</td>\n",
       "    </tr>\n",
       "    <tr>\n",
       "      <th>3</th>\n",
       "      <td>Sunday</td>\n",
       "      <td>1</td>\n",
       "      <td>7</td>\n",
       "    </tr>\n",
       "    <tr>\n",
       "      <th>4</th>\n",
       "      <td>Monday</td>\n",
       "      <td>0</td>\n",
       "      <td>1</td>\n",
       "    </tr>\n",
       "  </tbody>\n",
       "</table>\n",
       "</div>"
      ],
      "text/plain": [
       "  publish_day  is_weekend  publish_hour\n",
       "0      Sunday           1            12\n",
       "1      Monday           0             5\n",
       "2      Sunday           1            15\n",
       "3      Sunday           1             7\n",
       "4      Monday           0             1"
      ]
     },
     "execution_count": 23,
     "metadata": {},
     "output_type": "execute_result"
    }
   ],
   "source": [
    "#Membuat fitur waktu tambahan agar bisa analisis pengaruh jam atau hari publikasi terhadap performa video.\n",
    "df['publish_day'] = df['publish_date'].dt.day_name()\n",
    "df['is_weekend'] = df['publish_day'].isin(['Saturday','Sunday']).astype(int)\n",
    "df['publish_hour'] = df['publish_time'].dt.hour\n",
    "\n",
    "df[['publish_day', 'is_weekend', 'publish_hour']].head()"
   ]
  },
  {
   "cell_type": "code",
   "execution_count": 24,
   "id": "acb74072",
   "metadata": {},
   "outputs": [
    {
     "data": {
      "application/vnd.microsoft.datawrangler.viewer.v0+json": {
       "columns": [
        {
         "name": "index",
         "rawType": "object",
         "type": "string"
        },
        {
         "name": "views_per_like",
         "rawType": "float64",
         "type": "float"
        }
       ],
       "ref": "4e4ff94d-fc37-45fc-990c-65a998ea4b1b",
       "rows": [
        [
         "count",
         "32562.0"
        ],
        [
         "mean",
         "6115.452977483965"
        ],
        [
         "std",
         "72023.20253492618"
        ],
        [
         "min",
         "2.618361264322353"
        ],
        [
         "25%",
         "34.85326330574067"
        ],
        [
         "50%",
         "105.3113052112567"
        ],
        [
         "75%",
         "234.156853512309"
        ],
        [
         "max",
         "3825489.0"
        ]
       ],
       "shape": {
        "columns": 1,
        "rows": 8
       }
      },
      "text/plain": [
       "count    3.256200e+04\n",
       "mean     6.115453e+03\n",
       "std      7.202320e+04\n",
       "min      2.618361e+00\n",
       "25%      3.485326e+01\n",
       "50%      1.053113e+02\n",
       "75%      2.341569e+02\n",
       "max      3.825489e+06\n",
       "Name: views_per_like, dtype: float64"
      ]
     },
     "execution_count": 24,
     "metadata": {},
     "output_type": "execute_result"
    }
   ],
   "source": [
    "#Views per Like\n",
    "df['views_per_like'] = df['views'] / (df['likes'] + 1)\n",
    "df['views_per_like'].describe()\n"
   ]
  },
  {
   "cell_type": "code",
   "execution_count": 25,
   "id": "f5191017",
   "metadata": {},
   "outputs": [
    {
     "data": {
      "application/vnd.microsoft.datawrangler.viewer.v0+json": {
       "columns": [
        {
         "name": "index",
         "rawType": "int64",
         "type": "integer"
        },
        {
         "name": "views",
         "rawType": "int64",
         "type": "integer"
        },
        {
         "name": "likes",
         "rawType": "int64",
         "type": "integer"
        },
        {
         "name": "dislikes",
         "rawType": "int64",
         "type": "integer"
        },
        {
         "name": "comment_count",
         "rawType": "int64",
         "type": "integer"
        },
        {
         "name": "like_ratio",
         "rawType": "float64",
         "type": "float"
        },
        {
         "name": "comment_ratio",
         "rawType": "float64",
         "type": "float"
        },
        {
         "name": "views_per_like",
         "rawType": "float64",
         "type": "float"
        },
        {
         "name": "days_to_trend",
         "rawType": "int64",
         "type": "integer"
        },
        {
         "name": "is_weekend",
         "rawType": "int32",
         "type": "integer"
        }
       ],
       "ref": "8b91d6dd-d525-4192-9061-4832f2bdfcc5",
       "rows": [
        [
         "0",
         "1096327",
         "33966",
         "798",
         "882",
         "0.9770171149144254",
         "0.000804503761647974",
         "32.27623870226985",
         "2",
         "1"
        ],
        [
         "1",
         "590101",
         "735",
         "904",
         "0",
         "0.4481707317073171",
         "0.0",
         "801.7676630434783",
         "1",
         "0"
        ],
        [
         "2",
         "473988",
         "2011",
         "243",
         "149",
         "0.8917960088691796",
         "0.0003143532866796487",
         "235.58051689860835",
         "2",
         "1"
        ],
        [
         "3",
         "1242680",
         "70353",
         "1624",
         "2684",
         "0.9774236572285976",
         "0.0021598463322445582",
         "17.663245870881543",
         "2",
         "1"
        ],
        [
         "4",
         "464015",
         "492",
         "293",
         "66",
         "0.6259541984732825",
         "0.00014223647460432398",
         "941.2068965517242",
         "1",
         "0"
        ]
       ],
       "shape": {
        "columns": 9,
        "rows": 5
       }
      },
      "text/html": [
       "<div>\n",
       "<style scoped>\n",
       "    .dataframe tbody tr th:only-of-type {\n",
       "        vertical-align: middle;\n",
       "    }\n",
       "\n",
       "    .dataframe tbody tr th {\n",
       "        vertical-align: top;\n",
       "    }\n",
       "\n",
       "    .dataframe thead th {\n",
       "        text-align: right;\n",
       "    }\n",
       "</style>\n",
       "<table border=\"1\" class=\"dataframe\">\n",
       "  <thead>\n",
       "    <tr style=\"text-align: right;\">\n",
       "      <th></th>\n",
       "      <th>views</th>\n",
       "      <th>likes</th>\n",
       "      <th>dislikes</th>\n",
       "      <th>comment_count</th>\n",
       "      <th>like_ratio</th>\n",
       "      <th>comment_ratio</th>\n",
       "      <th>views_per_like</th>\n",
       "      <th>days_to_trend</th>\n",
       "      <th>is_weekend</th>\n",
       "    </tr>\n",
       "  </thead>\n",
       "  <tbody>\n",
       "    <tr>\n",
       "      <th>0</th>\n",
       "      <td>1096327</td>\n",
       "      <td>33966</td>\n",
       "      <td>798</td>\n",
       "      <td>882</td>\n",
       "      <td>0.977017</td>\n",
       "      <td>0.000805</td>\n",
       "      <td>32.276239</td>\n",
       "      <td>2</td>\n",
       "      <td>1</td>\n",
       "    </tr>\n",
       "    <tr>\n",
       "      <th>1</th>\n",
       "      <td>590101</td>\n",
       "      <td>735</td>\n",
       "      <td>904</td>\n",
       "      <td>0</td>\n",
       "      <td>0.448171</td>\n",
       "      <td>0.000000</td>\n",
       "      <td>801.767663</td>\n",
       "      <td>1</td>\n",
       "      <td>0</td>\n",
       "    </tr>\n",
       "    <tr>\n",
       "      <th>2</th>\n",
       "      <td>473988</td>\n",
       "      <td>2011</td>\n",
       "      <td>243</td>\n",
       "      <td>149</td>\n",
       "      <td>0.891796</td>\n",
       "      <td>0.000314</td>\n",
       "      <td>235.580517</td>\n",
       "      <td>2</td>\n",
       "      <td>1</td>\n",
       "    </tr>\n",
       "    <tr>\n",
       "      <th>3</th>\n",
       "      <td>1242680</td>\n",
       "      <td>70353</td>\n",
       "      <td>1624</td>\n",
       "      <td>2684</td>\n",
       "      <td>0.977424</td>\n",
       "      <td>0.002160</td>\n",
       "      <td>17.663246</td>\n",
       "      <td>2</td>\n",
       "      <td>1</td>\n",
       "    </tr>\n",
       "    <tr>\n",
       "      <th>4</th>\n",
       "      <td>464015</td>\n",
       "      <td>492</td>\n",
       "      <td>293</td>\n",
       "      <td>66</td>\n",
       "      <td>0.625954</td>\n",
       "      <td>0.000142</td>\n",
       "      <td>941.206897</td>\n",
       "      <td>1</td>\n",
       "      <td>0</td>\n",
       "    </tr>\n",
       "  </tbody>\n",
       "</table>\n",
       "</div>"
      ],
      "text/plain": [
       "     views  likes  dislikes  comment_count  like_ratio  comment_ratio  \\\n",
       "0  1096327  33966       798            882    0.977017       0.000805   \n",
       "1   590101    735       904              0    0.448171       0.000000   \n",
       "2   473988   2011       243            149    0.891796       0.000314   \n",
       "3  1242680  70353      1624           2684    0.977424       0.002160   \n",
       "4   464015    492       293             66    0.625954       0.000142   \n",
       "\n",
       "   views_per_like  days_to_trend  is_weekend  \n",
       "0       32.276239              2           1  \n",
       "1      801.767663              1           0  \n",
       "2      235.580517              2           1  \n",
       "3       17.663246              2           1  \n",
       "4      941.206897              1           0  "
      ]
     },
     "execution_count": 25,
     "metadata": {},
     "output_type": "execute_result"
    }
   ],
   "source": [
    "df[['views', 'likes', 'dislikes', 'comment_count',\n",
    "    'like_ratio', 'comment_ratio', 'views_per_like', 'days_to_trend', 'is_weekend']].head()"
   ]
  },
  {
   "cell_type": "code",
   "execution_count": 26,
   "id": "ea5f33e8",
   "metadata": {},
   "outputs": [
    {
     "data": {
      "image/png": "[encoded data removed]",
      "text/plain": [
       "<Figure size 800x600 with 1 Axes>"
      ]
     },
     "metadata": {},
     "output_type": "display_data"
    }
   ],
   "source": [
    "\n",
    "plt.figure(figsize=(8,6))\n",
    "sns.scatterplot(x='days_to_trend', y='views', data=df, alpha=0.6, color='teal')\n",
    "plt.title('Hubungan antara Days to Trend dan Jumlah Views', fontsize=13)\n",
    "plt.xlabel('Days to Trend (Hari Menuju Trending)')\n",
    "plt.ylabel('Jumlah Views')\n",
    "plt.grid(True, linestyle='--', alpha=0.4)\n",
    "plt.show()"
   ]
  },
  {
   "cell_type": "code",
   "execution_count": 29,
   "id": "d607af00",
   "metadata": {},
   "outputs": [],
   "source": [
    "fitur_model = [\n",
    "    'likes','dislikes','comment_count','No_tags','desc_len','len_title',\n",
    "    'category_id','like_ratio','days_to_trend','is_weekend','publish_hour',\n",
    "]\n",
    "\n",
    "\n",
    "target = 'views'"
   ]
  },
  {
   "cell_type": "code",
   "execution_count": 30,
   "id": "aad5819e",
   "metadata": {},
   "outputs": [],
   "source": [
    "X=df[fitur_model]\n",
    "y=df[target]"
   ]
  },
  {
   "cell_type": "code",
   "execution_count": 32,
   "id": "d5d6698a",
   "metadata": {},
   "outputs": [],
   "source": [
    "from sklearn.model_selection import GridSearchCV\n",
    "from sklearn.ensemble import RandomForestRegressor\n",
    "from sklearn.metrics import mean_absolute_error, mean_squared_error, r2_score\n",
    "from sklearn.model_selection import train_test_split"
   ]
  },
  {
   "cell_type": "code",
   "execution_count": 33,
   "id": "e56e985b",
   "metadata": {},
   "outputs": [],
   "source": [
    "X_train, X_test, y_train, y_test = train_test_split(\n",
    "    X, y, test_size=0.2, random_state=42\n",
    ")"
   ]
  },
  {
   "cell_type": "code",
   "execution_count": 34,
   "id": "a669be77",
   "metadata": {},
   "outputs": [
    {
     "name": "stdout",
     "output_type": "stream",
     "text": [
      "Best params: {'max_depth': None, 'min_samples_leaf': 1, 'min_samples_split': 2, 'n_estimators': 300}\n",
      "Best RF  |  MAE: 223662.3046535433  RMSE: 562009.1309542252  R²: 0.970076375961137\n"
     ]
    },
    {
     "name": "stderr",
     "output_type": "stream",
     "text": [
      "c:\\Users\\emanu\\AppData\\Local\\Programs\\Python\\Python311\\Lib\\site-packages\\sklearn\\metrics\\_regression.py:483: FutureWarning: 'squared' is deprecated in version 1.4 and will be removed in 1.6. To calculate the root mean squared error, use the function'root_mean_squared_error'.\n",
      "  warnings.warn(\n"
     ]
    }
   ],
   "source": [
    "param_grid = {\n",
    "    'n_estimators':[200,300],\n",
    "    'max_depth':[10,20,None],\n",
    "    'min_samples_split':[2,5],\n",
    "    'min_samples_leaf':[1,2]\n",
    "}\n",
    "gs = GridSearchCV(RandomForestRegressor(random_state=42), param_grid,\n",
    "                  cv=3, n_jobs=-1, scoring='r2')\n",
    "gs.fit(X_train, y_train)\n",
    "best = gs.best_estimator_\n",
    "pred_best = best.predict(X_test)\n",
    "print(\"Best params:\", gs.best_params_)\n",
    "print(\"Best RF  |  MAE:\", mean_absolute_error(y_test, pred_best),\n",
    "      \" RMSE:\", mean_squared_error(y_test, pred_best, squared=False),\n",
    "      \" R²:\", r2_score(y_test, pred_best))"
   ]
  },
  {
   "cell_type": "code",
   "execution_count": 35,
   "id": "c974c2a7",
   "metadata": {},
   "outputs": [
    {
     "data": {
      "image/png": "[encoded data removed]",
      "text/plain": [
       "<Figure size 600x600 with 1 Axes>"
      ]
     },
     "metadata": {},
     "output_type": "display_data"
    }
   ],
   "source": [
    "plt.figure(figsize=(6,6))\n",
    "sns.scatterplot(x=y_test, y=pred_best, alpha=0.5)\n",
    "plt.xlabel(\"Actual views\"); plt.ylabel(\"Predicted views\"); plt.title(\"Actual vs Predicted\")\n",
    "plt.plot([y_test.min(), y_test.max()], [y_test.min(), y_test.max()], ls='--')\n",
    "plt.show()"
   ]
  }
 ],
 "metadata": {
  "kernelspec": {
   "display_name": "Python 3",
   "language": "python",
   "name": "python3"
  },
  "language_info": {
   "codemirror_mode": {
    "name": "ipython",
    "version": 3
   },
   "file_extension": ".py",
   "mimetype": "text/x-python",
   "name": "python",
   "nbconvert_exporter": "python",
   "pygments_lexer": "ipython3",
   "version": "3.11.9"
  }
 },
 "nbformat": 4,
 "nbformat_minor": 5
}
